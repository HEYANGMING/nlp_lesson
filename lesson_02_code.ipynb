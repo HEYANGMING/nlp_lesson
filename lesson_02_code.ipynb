{
 "cells": [
  {
   "cell_type": "markdown",
   "metadata": {},
   "source": [
    "#  Language Model"
   ]
  },
  {
   "cell_type": "code",
   "execution_count": 23,
   "metadata": {
    "collapsed": false
   },
   "outputs": [
    {
     "data": {
      "text/plain": [
       "'E:/data/sqlResult_1558435.csv'"
      ]
     },
     "execution_count": 23,
     "metadata": {},
     "output_type": "execute_result"
    }
   ],
   "source": [
    "database"
   ]
  },
  {
   "cell_type": "code",
   "execution_count": 24,
   "metadata": {
    "collapsed": true
   },
   "outputs": [],
   "source": [
    "import os"
   ]
  },
  {
   "cell_type": "code",
   "execution_count": 25,
   "metadata": {
    "collapsed": false
   },
   "outputs": [
    {
     "data": {
      "text/plain": [
       "True"
      ]
     },
     "execution_count": 25,
     "metadata": {},
     "output_type": "execute_result"
    }
   ],
   "source": [
    "os.path.exists(database)"
   ]
  },
  {
   "cell_type": "code",
   "execution_count": 26,
   "metadata": {
    "collapsed": true
   },
   "outputs": [],
   "source": [
    "import pandas as pd"
   ]
  },
  {
   "cell_type": "code",
   "execution_count": 27,
   "metadata": {
    "collapsed": true
   },
   "outputs": [],
   "source": [
    "dataframe = pd.read_csv(database, encoding='gb18030')"
   ]
  },
  {
   "cell_type": "code",
   "execution_count": 28,
   "metadata": {
    "collapsed": true
   },
   "outputs": [],
   "source": [
    "all_articles = dataframe['content'].tolist()"
   ]
  },
  {
   "cell_type": "code",
   "execution_count": 29,
   "metadata": {
    "collapsed": true
   },
   "outputs": [],
   "source": [
    "import re "
   ]
  },
  {
   "cell_type": "code",
   "execution_count": 30,
   "metadata": {
    "collapsed": true
   },
   "outputs": [],
   "source": [
    "def token(string):\n",
    "    return ' '.join(re.findall('\\w|\\d+', string))"
   ]
  },
  {
   "cell_type": "code",
   "execution_count": 32,
   "metadata": {
    "collapsed": true
   },
   "outputs": [],
   "source": [
    "all_articles = [token(str(a)) for a in all_articles]"
   ]
  },
  {
   "cell_type": "code",
   "execution_count": 36,
   "metadata": {
    "collapsed": false
   },
   "outputs": [
    {
     "name": "stdout",
     "output_type": "stream",
     "text": [
      "length of text: 66582821\n"
     ]
    }
   ],
   "source": [
    "text = ''\n",
    "for a in all_articles:\n",
    "    text += a\n",
    "print('length of text: {}'.format(len(text)))"
   ]
  },
  {
   "cell_type": "code",
   "execution_count": 37,
   "metadata": {
    "collapsed": true
   },
   "outputs": [],
   "source": [
    "TEXT = text"
   ]
  },
  {
   "cell_type": "code",
   "execution_count": 38,
   "metadata": {
    "collapsed": true
   },
   "outputs": [],
   "source": [
    "from functools import reduce  "
   ]
  },
  {
   "cell_type": "code",
   "execution_count": 40,
   "metadata": {
    "collapsed": true
   },
   "outputs": [],
   "source": [
    "txt_from_reduce = reduce(lambda a1, a2: a1+a2, all_articles[:10])"
   ]
  },
  {
   "cell_type": "markdown",
   "metadata": {},
   "source": [
    "#  正则表达式  正则表达式的练习在线网址: https://regexone.com/"
   ]
  },
  {
   "cell_type": "code",
   "execution_count": 41,
   "metadata": {
    "collapsed": true
   },
   "outputs": [],
   "source": [
    "import requests"
   ]
  },
  {
   "cell_type": "code",
   "execution_count": 42,
   "metadata": {
    "collapsed": true
   },
   "outputs": [],
   "source": [
    "url = 'https://movie.douban.com/'"
   ]
  },
  {
   "cell_type": "code",
   "execution_count": 43,
   "metadata": {
    "collapsed": true
   },
   "outputs": [],
   "source": [
    "response = requests.get(url)  #获取网址"
   ]
  },
  {
   "cell_type": "code",
   "execution_count": 45,
   "metadata": {
    "collapsed": false
   },
   "outputs": [],
   "source": [
    "url_pattern = re.compile('https://movie.douban.com/subject/\\d+/\\?from=showing')"
   ]
  },
  {
   "cell_type": "code",
   "execution_count": 46,
   "metadata": {
    "collapsed": true
   },
   "outputs": [],
   "source": [
    "image_pattern = re.compile('https://img3.doubanio.com/view/photo/s_ratio_poster/public/\\w\\d+.\\w+')"
   ]
  },
  {
   "cell_type": "code",
   "execution_count": 47,
   "metadata": {
    "collapsed": true
   },
   "outputs": [],
   "source": [
    "html_content = response.text  #以文本形式打印网页源码"
   ]
  },
  {
   "cell_type": "code",
   "execution_count": 48,
   "metadata": {
    "collapsed": true
   },
   "outputs": [],
   "source": [
    "original_string = 'href=\"https://movie.douban.com/subject/26213252/?from=showing\">'"
   ]
  },
  {
   "cell_type": "code",
   "execution_count": 49,
   "metadata": {
    "collapsed": true
   },
   "outputs": [],
   "source": [
    "import matplotlib.pyplot as plt"
   ]
  },
  {
   "cell_type": "code",
   "execution_count": 50,
   "metadata": {
    "collapsed": false
   },
   "outputs": [
    {
     "data": {
      "text/plain": [
       "['https://img3.doubanio.com/view/photo/s_ratio_poster/public/p2552058346.jpg',\n",
       " 'https://img3.doubanio.com/view/photo/s_ratio_poster/public/p2554795775.jpg',\n",
       " 'https://img3.doubanio.com/view/photo/s_ratio_poster/public/p2554545271.jpg',\n",
       " 'https://img3.doubanio.com/view/photo/s_ratio_poster/public/p2551353482.jpg',\n",
       " 'https://img3.doubanio.com/view/photo/s_ratio_poster/public/p2554017175.jpg',\n",
       " 'https://img3.doubanio.com/view/photo/s_ratio_poster/public/p2554775210.jpg',\n",
       " 'https://img3.doubanio.com/view/photo/s_ratio_poster/public/p2552558351.jpg',\n",
       " 'https://img3.doubanio.com/view/photo/s_ratio_poster/public/p2554981472.jpg',\n",
       " 'https://img3.doubanio.com/view/photo/s_ratio_poster/public/p2551690865.jpg',\n",
       " 'https://img3.doubanio.com/view/photo/s_ratio_poster/public/p2554018955.jpg',\n",
       " 'https://img3.doubanio.com/view/photo/s_ratio_poster/public/p2554401295.jpg',\n",
       " 'https://img3.doubanio.com/view/photo/s_ratio_poster/public/p2549558913.jpg',\n",
       " 'https://img3.doubanio.com/view/photo/s_ratio_poster/public/p2554014252.jpg',\n",
       " 'https://img3.doubanio.com/view/photo/s_ratio_poster/public/p2553279350.jpg',\n",
       " 'https://img3.doubanio.com/view/photo/s_ratio_poster/public/p2554962852.jpg',\n",
       " 'https://img3.doubanio.com/view/photo/s_ratio_poster/public/p2530572643.jpg',\n",
       " 'https://img3.doubanio.com/view/photo/s_ratio_poster/public/p2545479945.jpg',\n",
       " 'https://img3.doubanio.com/view/photo/s_ratio_poster/public/p2529571873.jpg',\n",
       " 'https://img3.doubanio.com/view/photo/s_ratio_poster/public/p2079334286.jpg']"
      ]
     },
     "execution_count": 50,
     "metadata": {},
     "output_type": "execute_result"
    }
   ],
   "source": [
    "image_pattern.findall(html_content)  #返回一个列表"
   ]
  },
  {
   "cell_type": "code",
   "execution_count": 51,
   "metadata": {
    "collapsed": false
   },
   "outputs": [
    {
     "data": {
      "text/plain": [
       "{'https://movie.douban.com/subject/26100958/?from=showing',\n",
       " 'https://movie.douban.com/subject/26311974/?from=showing',\n",
       " 'https://movie.douban.com/subject/26662282/?from=showing',\n",
       " 'https://movie.douban.com/subject/26715636/?from=showing',\n",
       " 'https://movie.douban.com/subject/26731376/?from=showing',\n",
       " 'https://movie.douban.com/subject/26773625/?from=showing',\n",
       " 'https://movie.douban.com/subject/26871669/?from=showing',\n",
       " 'https://movie.douban.com/subject/26878827/?from=showing',\n",
       " 'https://movie.douban.com/subject/26879542/?from=showing',\n",
       " 'https://movie.douban.com/subject/26899146/?from=showing',\n",
       " 'https://movie.douban.com/subject/26959074/?from=showing',\n",
       " 'https://movie.douban.com/subject/27040737/?from=showing',\n",
       " 'https://movie.douban.com/subject/27202819/?from=showing',\n",
       " 'https://movie.douban.com/subject/30170448/?from=showing',\n",
       " 'https://movie.douban.com/subject/30230160/?from=showing',\n",
       " 'https://movie.douban.com/subject/30283179/?from=showing',\n",
       " 'https://movie.douban.com/subject/30320371/?from=showing',\n",
       " 'https://movie.douban.com/subject/30334073/?from=showing',\n",
       " 'https://movie.douban.com/subject/30345341/?from=showing',\n",
       " 'https://movie.douban.com/subject/30479973/?from=showing',\n",
       " 'https://movie.douban.com/subject/33434703/?from=showing',\n",
       " 'https://movie.douban.com/subject/5300054/?from=showing'}"
      ]
     },
     "execution_count": 51,
     "metadata": {},
     "output_type": "execute_result"
    }
   ],
   "source": [
    "set(url_pattern.findall(html_content))"
   ]
  },
  {
   "cell_type": "code",
   "execution_count": 52,
   "metadata": {
    "collapsed": false
   },
   "outputs": [
    {
     "name": "stdout",
     "output_type": "stream",
     "text": [
      "https://movie.douban.com/subject/26100958/?from=showing\n",
      "https://movie.douban.com/subject/26100958/?from=showing\n",
      "https://movie.douban.com/subject/30170448/?from=showing\n",
      "https://movie.douban.com/subject/30170448/?from=showing\n",
      "https://movie.douban.com/subject/26311974/?from=showing\n",
      "https://movie.douban.com/subject/26311974/?from=showing\n",
      "https://movie.douban.com/subject/26899146/?from=showing\n",
      "https://movie.douban.com/subject/26899146/?from=showing\n",
      "https://movie.douban.com/subject/30334073/?from=showing\n",
      "https://movie.douban.com/subject/30334073/?from=showing\n",
      "https://movie.douban.com/subject/27202819/?from=showing\n",
      "https://movie.douban.com/subject/27202819/?from=showing\n",
      "https://movie.douban.com/subject/30230160/?from=showing\n",
      "https://movie.douban.com/subject/30230160/?from=showing\n",
      "https://movie.douban.com/subject/30283179/?from=showing\n",
      "https://movie.douban.com/subject/30283179/?from=showing\n",
      "https://movie.douban.com/subject/26878827/?from=showing\n",
      "https://movie.douban.com/subject/26878827/?from=showing\n",
      "https://movie.douban.com/subject/26662282/?from=showing\n",
      "https://movie.douban.com/subject/26662282/?from=showing\n",
      "https://movie.douban.com/subject/33434703/?from=showing\n",
      "https://movie.douban.com/subject/33434703/?from=showing\n",
      "https://movie.douban.com/subject/27040737/?from=showing\n",
      "https://movie.douban.com/subject/27040737/?from=showing\n",
      "https://movie.douban.com/subject/30479973/?from=showing\n",
      "https://movie.douban.com/subject/30479973/?from=showing\n",
      "https://movie.douban.com/subject/26731376/?from=showing\n",
      "https://movie.douban.com/subject/26731376/?from=showing\n",
      "https://movie.douban.com/subject/30345341/?from=showing\n",
      "https://movie.douban.com/subject/30345341/?from=showing\n",
      "https://movie.douban.com/subject/5300054/?from=showing\n",
      "https://movie.douban.com/subject/5300054/?from=showing\n",
      "https://movie.douban.com/subject/26715636/?from=showing\n",
      "https://movie.douban.com/subject/26715636/?from=showing\n",
      "https://movie.douban.com/subject/30320371/?from=showing\n",
      "https://movie.douban.com/subject/30320371/?from=showing\n",
      "https://movie.douban.com/subject/26879542/?from=showing\n",
      "https://movie.douban.com/subject/26879542/?from=showing\n",
      "https://movie.douban.com/subject/26773625/?from=showing\n",
      "https://movie.douban.com/subject/26773625/?from=showing\n",
      "https://movie.douban.com/subject/26871669/?from=showing\n",
      "https://movie.douban.com/subject/26871669/?from=showing\n",
      "https://movie.douban.com/subject/26959074/?from=showing\n",
      "https://movie.douban.com/subject/26959074/?from=showing\n"
     ]
    }
   ],
   "source": [
    "for line in html_content.split():\n",
    "    match = url_pattern.findall(line)\n",
    "    if match:\n",
    "        print(match[0])"
   ]
  },
  {
   "cell_type": "code",
   "execution_count": 56,
   "metadata": {
    "collapsed": true
   },
   "outputs": [],
   "source": [
    "import jieba"
   ]
  },
  {
   "cell_type": "code",
   "execution_count": 57,
   "metadata": {
    "collapsed": true
   },
   "outputs": [],
   "source": [
    "def cut(string): \n",
    "    return list(jieba.cut(string))"
   ]
  },
  {
   "cell_type": "code",
   "execution_count": 58,
   "metadata": {
    "collapsed": false
   },
   "outputs": [
    {
     "name": "stderr",
     "output_type": "stream",
     "text": [
      "Building prefix dict from the default dictionary ...\n",
      "Dumping model to file cache C:\\Users\\admin\\AppData\\Local\\Temp\\jieba.cache\n",
      "Loading model cost 0.776 seconds.\n",
      "Prefix dict has been built succesfully.\n"
     ]
    }
   ],
   "source": [
    "ALL_TOKENS = cut(TEXT)"
   ]
  },
  {
   "cell_type": "code",
   "execution_count": 59,
   "metadata": {
    "collapsed": true
   },
   "outputs": [],
   "source": [
    "valida_tokens = [t for t in ALL_TOKENS if t.strip() and t !='\\n']"
   ]
  },
  {
   "cell_type": "code",
   "execution_count": null,
   "metadata": {
    "collapsed": true
   },
   "outputs": [],
   "source": [
    "valida_tokens = []"
   ]
  }
 ],
 "metadata": {
  "anaconda-cloud": {},
  "kernelspec": {
   "display_name": "Python [conda env:Anaconda3]",
   "language": "python",
   "name": "conda-env-Anaconda3-py"
  },
  "language_info": {
   "codemirror_mode": {
    "name": "ipython",
    "version": 3
   },
   "file_extension": ".py",
   "mimetype": "text/x-python",
   "name": "python",
   "nbconvert_exporter": "python",
   "pygments_lexer": "ipython3",
   "version": "3.5.2"
  }
 },
 "nbformat": 4,
 "nbformat_minor": 1
}
