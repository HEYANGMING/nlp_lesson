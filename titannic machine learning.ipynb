{
 "cells": [
  {
   "cell_type": "code",
   "execution_count": 220,
   "metadata": {},
   "outputs": [],
   "source": [
    "import pandas as pd\n",
    "import numpy as np\n",
    "import matplotlib.pyplot as plt\n",
    "import random"
   ]
  },
  {
   "cell_type": "code",
   "execution_count": 221,
   "metadata": {},
   "outputs": [],
   "source": [
    "content  = pd.read_csv( 'C:/Users/heyangm/Desktop/nlp_lesson/data/titanic/train.csv')"
   ]
  },
  {
   "cell_type": "code",
   "execution_count": 222,
   "metadata": {},
   "outputs": [],
   "source": [
    "content = content.dropna()"
   ]
  },
  {
   "cell_type": "code",
   "execution_count": 223,
   "metadata": {},
   "outputs": [],
   "source": [
    "age_with_fares = content[(content['Age']>22)&(content['Fare']<400)&(content['Fare']>130)]"
   ]
  },
  {
   "cell_type": "code",
   "execution_count": 224,
   "metadata": {},
   "outputs": [],
   "source": [
    "sub_fare = age_with_fares['Fare']\n",
    "\n",
    "sub_age = age_with_fares['Age']"
   ]
  },
  {
   "cell_type": "markdown",
   "metadata": {},
   "source": [
    "# Define model"
   ]
  },
  {
   "cell_type": "code",
   "execution_count": 225,
   "metadata": {},
   "outputs": [],
   "source": [
    "def func(age, k, b):\n",
    "    return k * age + b"
   ]
  },
  {
   "cell_type": "markdown",
   "metadata": {},
   "source": [
    "# Define loss function"
   ]
  },
  {
   "cell_type": "code",
   "execution_count": 226,
   "metadata": {},
   "outputs": [],
   "source": [
    "def loss(y, yhat):\n",
    "\n",
    "    \"\"\"\n",
    "    :param y: the real fares\n",
    "\n",
    "    :param yhat: the estimated fares\n",
    "\n",
    "    :return: how good is the estimated fares\n",
    "\n",
    "    \"\"\"\n",
    "    return np.mean(np.abs(y - yhat))\n",
    "\n",
    "    # return np.mean(np.square(y - yhat))\n",
    "\n",
    "    # return np.mean(np.sqrt(y - yhat))"
   ]
  },
  {
   "cell_type": "markdown",
   "metadata": {},
   "source": [
    "# Random Choose Method to get optimal k and b"
   ]
  },
  {
   "cell_type": "code",
   "execution_count": 227,
   "metadata": {},
   "outputs": [],
   "source": [
    "losses = []"
   ]
  },
  {
   "cell_type": "code",
   "execution_count": 243,
   "metadata": {},
   "outputs": [],
   "source": [
    "min_error_rate = float('inf')"
   ]
  },
  {
   "cell_type": "code",
   "execution_count": 244,
   "metadata": {},
   "outputs": [],
   "source": [
    "loop_times = 10000"
   ]
  },
  {
   "cell_type": "code",
   "execution_count": 245,
   "metadata": {},
   "outputs": [],
   "source": [
    "change_directions = [\n",
    "    # (k, b)\n",
    "    (+1, -1), # k increase, b decrease\n",
    "\n",
    "    (+1, +1),\n",
    "\n",
    "    (-1, +1),\n",
    "\n",
    "    (-1, -1)  # k decrease, b decrease\n",
    "]"
   ]
  },
  {
   "cell_type": "code",
   "execution_count": 246,
   "metadata": {
    "scrolled": true
   },
   "outputs": [
    {
     "name": "stdout",
     "output_type": "stream",
     "text": [
      "loop == 10000\n",
      "f(age) = 8.096501068646997 * age + -3.158488545440072, with error rate: 137.30587741378062\n",
      "loop == 9999\n",
      "f(age) = 1.9460916956589323 * age + -3.7678088193297636, with error rate: 119.57637789001043\n",
      "loop == 9990\n",
      "f(age) = 4.2689754647283 * age + 4.394124261445873, with error rate: 62.86373265013007\n",
      "loop == 9830\n",
      "f(age) = 3.7980096723798518 * age + 8.953288330533336, with error rate: 61.41878493317417\n",
      "loop == 9470\n",
      "f(age) = 3.9658298796177345 * age + 7.612701310014359, with error rate: 61.32835473274682\n",
      "loop == 8912\n",
      "f(age) = 3.8386144780602134 * age + 9.790354558193517, with error rate: 61.19877226460489\n",
      "loop == 8132\n",
      "f(age) = 3.8762192536790074 * age + 9.58550925364645, with error rate: 61.167781901122765\n"
     ]
    },
    {
     "data": {
      "image/png": "[encoded data removed]",
      "text/plain": [
       "<Figure size 432x288 with 1 Axes>"
      ]
     },
     "metadata": {
      "needs_background": "light"
     },
     "output_type": "display_data"
    }
   ],
   "source": [
    "while loop_times > 0: \n",
    "    k_hat = random.random() * 20 - 10\n",
    "    b_hat = random.random() * 20 - 10\n",
    "\n",
    "    new_k = k_hat\n",
    "    new_b = b_hat\n",
    "\n",
    "    estimated_fares = func(sub_age, new_k, new_b)\n",
    "\n",
    "    error_rate = loss(sub_fare, estimated_fares)\n",
    "\n",
    "    if error_rate < min_error_rate:\n",
    "\n",
    "        min_error_rate = error_rate\n",
    "\n",
    "        best_k, best_b = new_k, new_b\n",
    "\n",
    "        print('loop == {}'.format(loop_times))\n",
    "\n",
    "        print('f(age) = {} * age + {}, with error rate: {}'.format(best_k, best_b, error_rate))\n",
    "\n",
    "        losses.append(error_rate)\n",
    "    loop_times -= 1\n",
    "\n",
    "plt.plot(range(len(losses)), losses)\n",
    "\n",
    "plt.show()"
   ]
  },
  {
   "cell_type": "markdown",
   "metadata": {},
   "source": [
    "# Supervised Direction to get optimal k and b"
   ]
  },
  {
   "cell_type": "code",
   "execution_count": 247,
   "metadata": {},
   "outputs": [],
   "source": [
    "change_directions = [(-1,-1),(-1,1),(1,-1),(1,1)]\n",
    "direction = random.choice(change_directions)"
   ]
  },
  {
   "cell_type": "code",
   "execution_count": 248,
   "metadata": {},
   "outputs": [],
   "source": [
    "def step():\n",
    "    return random.random() * 1"
   ]
  },
  {
   "cell_type": "code",
   "execution_count": 249,
   "metadata": {},
   "outputs": [],
   "source": [
    "min_error_rate = float('inf')"
   ]
  },
  {
   "cell_type": "code",
   "execution_count": 250,
   "metadata": {},
   "outputs": [],
   "source": [
    "losses = []"
   ]
  },
  {
   "cell_type": "code",
   "execution_count": 251,
   "metadata": {},
   "outputs": [],
   "source": [
    "loop_times = 10000"
   ]
  },
  {
   "cell_type": "code",
   "execution_count": 257,
   "metadata": {},
   "outputs": [
    {
     "data": {
      "image/png": "[encoded data removed]",
      "text/plain": [
       "<Figure size 432x288 with 1 Axes>"
      ]
     },
     "metadata": {
      "needs_background": "light"
     },
     "output_type": "display_data"
    }
   ],
   "source": [
    "while loop_times > 0:\n",
    "    k_change_direction, b_change_direction = direction # k，b减少方向\n",
    "    \n",
    "    k_star = random.random() * 20 - 10\n",
    "    b_star = random.random() * 20 - 10\n",
    "    \n",
    "    k_new = k_star + k_change_direction * step() * learning_rate\n",
    "    b_new = b_star + b_change_direction * step() * learning_rate\n",
    "    \n",
    "    estimated_fares = func(sub_age, k_new, b_new)\n",
    "    error_rate = loss(sub_fare, estimated_fares)\n",
    "    \n",
    "    if error_rate < min_error_rate:\n",
    "        min_error_rate = error_rate\n",
    "        k_best = k_new\n",
    "        b_best = b_new\n",
    "        \n",
    "        print('loop == {}'.format(loop_times)) \n",
    "        print('f(age) = {} * age + {}, with error rate: {}'.format(k_best, b_best, error_rate))\n",
    "        \n",
    "        losses.append(error_rate)\n",
    "        \n",
    "    else:\n",
    "        direction = random.choice(list(set(change_directions) - {(k_change_direction, b_change_direction)}))\n",
    "    loop_times -= 1\n",
    "\n",
    "plt.plot(range(len(losses)), losses)\n",
    "plt.show()"
   ]
  },
  {
   "cell_type": "markdown",
   "metadata": {},
   "source": [
    "# Gradient Descent to get optimal k and b"
   ]
  },
  {
   "cell_type": "code",
   "execution_count": 258,
   "metadata": {},
   "outputs": [],
   "source": [
    "def derivate_k(y, yhat, x):\n",
    "    abs_values = [1 if (y_i - yhat_i) > 0 else -1 for y_i, yhat_i in zip(y, yhat)]\n",
    "    return np.mean([a * -x_i for a, x_i in zip(abs_values, x)])"
   ]
  },
  {
   "cell_type": "code",
   "execution_count": 259,
   "metadata": {},
   "outputs": [],
   "source": [
    "def derivate_b(y, yhat):\n",
    "    abs_values = [1 if (y_i - yhat_i) > 0 else -1 for y_i, yhat_i in zip(y, yhat)]\n",
    "    return np.mean([a * -1 for a in abs_values])"
   ]
  },
  {
   "cell_type": "code",
   "execution_count": 260,
   "metadata": {},
   "outputs": [],
   "source": [
    "min_error_rate = float('inf')\n",
    "\n",
    "loop_times = 10000\n",
    "\n",
    "losses = []"
   ]
  },
  {
   "cell_type": "code",
   "execution_count": 261,
   "metadata": {},
   "outputs": [],
   "source": [
    "change_directions = [\n",
    "    # (k, b)\n",
    "    (+1, -1), # k increase, b decrease\n",
    "    (+1, +1),\n",
    "    (-1, +1),\n",
    "    (-1, -1)  # k decrease, b decrease\n",
    "]"
   ]
  },
  {
   "cell_type": "code",
   "execution_count": 263,
   "metadata": {},
   "outputs": [],
   "source": [
    "k_hat = random.random() * 20 - 10\n",
    "b_hat = random.random() * 20 - 10"
   ]
  },
  {
   "cell_type": "code",
   "execution_count": 264,
   "metadata": {},
   "outputs": [],
   "source": [
    "best_k, best_b = k_hat, b_hat"
   ]
  },
  {
   "cell_type": "code",
   "execution_count": 265,
   "metadata": {},
   "outputs": [],
   "source": [
    "direction = random.choice(change_directions)"
   ]
  },
  {
   "cell_type": "code",
   "execution_count": 266,
   "metadata": {},
   "outputs": [],
   "source": [
    "learing_rate = 1e-1"
   ]
  },
  {
   "cell_type": "code",
   "execution_count": 269,
   "metadata": {},
   "outputs": [
    {
     "data": {
      "image/png": "[encoded data removed]",
      "text/plain": [
       "<Figure size 432x288 with 1 Axes>"
      ]
     },
     "metadata": {
      "needs_background": "light"
     },
     "output_type": "display_data"
    }
   ],
   "source": [
    "while loop_times > 0:\n",
    "\n",
    "    k_delta = -1 * learing_rate * derivate_k(sub_fare, func(sub_age, k_hat, b_hat), sub_age)\n",
    "    b_delta = -1 * learing_rate * derivate_b(sub_fare, func(sub_age, k_hat, b_hat))\n",
    "    \n",
    "    k_hat += k_delta\n",
    "    b_hat += b_delta\n",
    "    \n",
    "    estimated_fares = func(sub_age, k_hat, b_hat)\n",
    "    error_rate = loss(y=sub_fare, yhat=estimated_fares)\n",
    "    \n",
    "    print('loop == {}'.format(loop_times))\n",
    "    print('f(age) = {} * age + {}, with error rate: {}'.format(best_k, best_b, error_rate))\n",
    "    \n",
    "    losses.append(error_rate)\n",
    "    loop_times -= 1\n",
    "\n",
    "plt.plot(range(len(losses)), losses)\n",
    "plt.show()"
   ]
  },
  {
   "cell_type": "code",
   "execution_count": null,
   "metadata": {},
   "outputs": [],
   "source": []
  }
 ],
 "metadata": {
  "kernelspec": {
   "display_name": "Python 3",
   "language": "python",
   "name": "python3"
  },
  "language_info": {
   "codemirror_mode": {
    "name": "ipython",
    "version": 3
   },
   "file_extension": ".py",
   "mimetype": "text/x-python",
   "name": "python",
   "nbconvert_exporter": "python",
   "pygments_lexer": "ipython3",
   "version": "3.7.3"
  }
 },
 "nbformat": 4,
 "nbformat_minor": 2
}
